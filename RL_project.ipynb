{
 "cells": [
  {
   "cell_type": "code",
   "execution_count": 1,
   "metadata": {
    "id": "meNNqqqlRlN4"
   },
   "outputs": [],
   "source": [
    "import torch\n",
    "device = 'cuda' if torch.cuda.is_available else 'cpu'\n",
    "from agent import Agent, advanced_random_policy, random_policy, sarsa\n",
    "from game import Game\n",
    "import matplotlib.pyplot as plt\n",
    "import pandas as pd\n",
    "import numpy as np"
   ]
  },
  {
   "cell_type": "markdown",
   "metadata": {},
   "source": [
    "### In a first time, we train an agent for 2D tic-tac-toe using Q-learning with our modified SARSA algorithm"
   ]
  },
  {
   "cell_type": "code",
   "execution_count": 2,
   "metadata": {},
   "outputs": [
    {
     "name": "stderr",
     "output_type": "stream",
     "text": [
      "100%|██████████| 20000/20000 [04:59<00:00, 66.86it/s] "
     ]
    },
    {
     "name": "stdout",
     "output_type": "stream",
     "text": [
      "Wall time: 4min 59s\n"
     ]
    },
    {
     "name": "stderr",
     "output_type": "stream",
     "text": [
      "\n"
     ]
    }
   ],
   "source": [
    "%%time\n",
    "game = Game(None, None, n_dim=2, size=3)\n",
    "agent = Agent(size=3)\n",
    "\n",
    "n_eps = 20000\n",
    "# Trains agent with the random policy\n",
    "sarsa(game, agent, random_policy, alpha=0.45, alpha_factor=0.9995**(10000/n_eps), gamma=0.7, epsilon=1.0, \\\n",
    "      epsilon_factor=0.9997**(10000/n_eps), r_win=11.0, r_lose=0.0, r_even=1.0, r_even2=1.25, num_episodes=20000)"
   ]
  },
  {
   "cell_type": "markdown",
   "metadata": {},
   "source": [
    "We make our agent play 1000 games against the random policy"
   ]
  },
  {
   "cell_type": "code",
   "execution_count": 3,
   "metadata": {},
   "outputs": [
    {
     "name": "stdout",
     "output_type": "stream",
     "text": [
      "On 1000 games, agent won 913 times, lost 0 times and made 87 even games.\n"
     ]
    }
   ],
   "source": [
    "random_opponent = Agent(size=3, policy=random_policy)\n",
    "game = Game(agent, random_opponent, n_dim=2, size=3)\n",
    "\n",
    "agent_1_win, oppo_2_win, agent_1_even, agent_2_win, oppo_1_win, agent_2_even = game.simulate_games(1000)\n",
    "tot_agent_win = agent_1_win + agent_2_win\n",
    "tot_agent_lose = oppo_1_win + oppo_2_win\n",
    "tot_even = agent_1_even + agent_2_even\n",
    "print(\"On 1000 games, agent won\", tot_agent_win, \"times, lost\", tot_agent_lose, \"times and made\", tot_even, \"even games.\")"
   ]
  },
  {
   "cell_type": "markdown",
   "metadata": {},
   "source": [
    "Now we make our agent play 1000 games against the advanced policy"
   ]
  },
  {
   "cell_type": "code",
   "execution_count": 4,
   "metadata": {},
   "outputs": [
    {
     "name": "stdout",
     "output_type": "stream",
     "text": [
      "On 1000 games, agent won 244 times, lost 0 times and made 756 even games.\n"
     ]
    }
   ],
   "source": [
    "advanced_opponent = Agent(size=3, policy=advanced_random_policy)\n",
    "game = Game(agent, advanced_opponent, n_dim=2, size=3)\n",
    "\n",
    "agent_1_win, oppo_2_win, agent_1_even, agent_2_win, oppo_1_win, agent_2_even = game.simulate_games(1000)\n",
    "tot_agent_win = agent_1_win + agent_2_win\n",
    "tot_agent_lose = oppo_1_win + oppo_2_win\n",
    "tot_even = agent_1_even + agent_2_even\n",
    "print(\"On 1000 games, agent won\", tot_agent_win, \"times, lost\", tot_agent_lose, \"times and made\", tot_even, \"even games.\")"
   ]
  },
  {
   "cell_type": "markdown",
   "metadata": {},
   "source": [
    "We give the possibility to play against our agent"
   ]
  },
  {
   "cell_type": "code",
   "execution_count": 11,
   "metadata": {
    "pycharm": {
     "name": "#%%\n"
    },
    "scrolled": false
   },
   "outputs": [
    {
     "name": "stdout",
     "output_type": "stream",
     "text": [
      ". . . \n",
      ". . . \n",
      ". . . \n",
      "\n",
      "Agent plays : (1, 1) \n",
      "\n",
      ". . . \n",
      ". X . \n",
      ". . . \n",
      "\n",
      "Coordinates of next move : 0 1\n",
      "\n",
      ". O . \n",
      ". X . \n",
      ". . . \n",
      "\n",
      "Agent plays : (0, 2) \n",
      "\n",
      ". O X \n",
      ". X . \n",
      ". . . \n",
      "\n",
      "Coordinates of next move : 2, 0\n",
      "\n",
      ". O X \n",
      ". X . \n",
      "O . . \n",
      "\n",
      "Agent plays : (2, 2) \n",
      "\n",
      ". O X \n",
      ". X . \n",
      "O . X \n",
      "\n",
      "Coordinates of next move : 10\n",
      "\n",
      ". O X \n",
      "O X . \n",
      "O . X \n",
      "\n",
      "Agent plays : (0, 0) \n",
      "\n",
      "X O X \n",
      "O X . \n",
      "O . X \n",
      "\n",
      "Game over. Score : (1, 0)\n",
      "<agent.Agent object at 0x000002739FE0A370> wins !\n"
     ]
    },
    {
     "data": {
      "text/plain": [
       "(1, 0)"
      ]
     },
     "execution_count": 11,
     "metadata": {},
     "output_type": "execute_result"
    }
   ],
   "source": [
    "game = Game(agent, \"Human player\", n_dim=2, size=3) # agent plays first\n",
    "#game = Game(\"Human player\", agent, n_dim=2, size=3) # to play first\n",
    "game.play_a_game()"
   ]
  },
  {
   "cell_type": "markdown",
   "metadata": {},
   "source": [
    "We can evaluate the performances of our agent depending on the number of training episodes"
   ]
  },
  {
   "cell_type": "code",
   "execution_count": 5,
   "metadata": {
    "pycharm": {
     "name": "#%%\n"
    }
   },
   "outputs": [
    {
     "name": "stderr",
     "output_type": "stream",
     "text": [
      "100%|██████████| 1/1 [00:00<00:00, 55.54it/s]\n",
      "100%|██████████| 10/10 [00:00<00:00, 85.02it/s]\n",
      "100%|██████████| 100/100 [00:01<00:00, 90.24it/s]\n",
      "100%|██████████| 200/200 [00:02<00:00, 99.62it/s] \n",
      "100%|██████████| 400/400 [00:03<00:00, 101.69it/s]\n",
      "100%|██████████| 700/700 [00:06<00:00, 106.43it/s]\n",
      "100%|██████████| 1000/1000 [00:09<00:00, 109.08it/s]\n",
      "100%|██████████| 2000/2000 [00:17<00:00, 116.17it/s]\n",
      "100%|██████████| 3000/3000 [00:25<00:00, 116.89it/s]\n",
      "100%|██████████| 4000/4000 [00:32<00:00, 122.15it/s]\n",
      "100%|██████████| 5000/5000 [00:41<00:00, 120.36it/s]\n",
      "100%|██████████| 7000/7000 [00:59<00:00, 118.36it/s]\n",
      "100%|██████████| 10000/10000 [01:23<00:00, 119.52it/s]\n",
      "100%|██████████| 15000/15000 [02:01<00:00, 123.17it/s]\n",
      "100%|██████████| 20000/20000 [02:43<00:00, 122.23it/s]\n"
     ]
    },
    {
     "data": {
      "text/plain": [
       "<matplotlib.legend.Legend at 0x273a8391b50>"
      ]
     },
     "execution_count": 5,
     "metadata": {},
     "output_type": "execute_result"
    },
    {
     "data": {
      "image/png": "[encoded data removed]",
      "text/plain": [
       "<Figure size 322.56x241.92 with 1 Axes>"
      ]
     },
     "metadata": {
      "needs_background": "light"
     },
     "output_type": "display_data"
    }
   ],
   "source": [
    "win, lose, draw, n_eps = [], [], [], []\n",
    "for n in [1, 10, 100, 200, 400, 700, 1000, 2000, 3000, 4000, 5000, 7000, 10000, 15000, 20000]:\n",
    "    ar = 0.9995**(10000/n)\n",
    "    er = 0.9997**(10000/n)\n",
    "    agent = Agent(size=3)\n",
    "    advanced_opponent = Agent(size=3, policy=advanced_random_policy)\n",
    "    game = Game(agent, advanced_opponent, n_dim=2, size=3)\n",
    "    sarsa(game, agent, random_policy, alpha=0.45, alpha_factor=ar, gamma=0.7, epsilon=1.0, epsilon_factor=er, \\\n",
    "          r_win=11.0, r_lose=0.0, r_even=1.0, r_even2=1.25, num_episodes=n)\n",
    "    win_p1_a, win_p2_a, tot_even_a, win_p1_b, win_p2_b, tot_even_b = game.simulate_games(10000)\n",
    "    win.append(win_p1_a + win_p1_b)\n",
    "    lose.append(win_p2_a + win_p2_b)\n",
    "    draw.append(tot_even_a + tot_even_b)\n",
    "    n_eps.append(n)\n",
    "    \n",
    "n_eps = np.array(n_eps)\n",
    "fig = plt.figure(figsize=(0.7*6.4, 0.7*4.8))\n",
    "plt.plot(n_eps, np.array(win)/100, label='win')\n",
    "plt.plot(n_eps, np.array(lose)/100, label='lose')\n",
    "plt.plot(n_eps, np.array(draw)/100, label='draw')\n",
    "plt.xscale('log')\n",
    "plt.xlabel('number of episodes played in training')\n",
    "plt.ylabel('test games (in %)')\n",
    "plt.ylim(0, 105)\n",
    "plt.title('Performances when training\\nagainst the random policy and\\nplaying against the random policy')\n",
    "plt.legend()"
   ]
  },
  {
   "cell_type": "markdown",
   "metadata": {},
   "source": [
    "### Now, we show our Policy Gradient model for the 2D and 3D case\n",
    "We start by the 2D case\n",
    "\n",
    "We train our model with 10k iteration and batch size of 1000"
   ]
  },
  {
   "cell_type": "code",
   "execution_count": 6,
   "metadata": {
    "pycharm": {
     "name": "#%%\n"
    }
   },
   "outputs": [
    {
     "name": "stderr",
     "output_type": "stream",
     "text": [
      "100%|██████████| 10000/10000 [01:10<00:00, 141.60it/s]"
     ]
    },
    {
     "name": "stdout",
     "output_type": "stream",
     "text": [
      "[array(0.23684864, dtype=float32), array(0.23684864, dtype=float32), array(0.2270721, dtype=float32), array(0.2270721, dtype=float32), array(0.23423481, dtype=float32), array(0.23423481, dtype=float32), array(0.23684695, dtype=float32), array(0.23684695, dtype=float32), array(0.21661209, dtype=float32), array(0.21661209, dtype=float32), array(0.21759208, dtype=float32), array(0.21759208, dtype=float32), array(0.22349189, dtype=float32), array(0.22349189, dtype=float32), array(0.22080824, dtype=float32), array(0.22080824, dtype=float32), array(0.2288791, dtype=float32), array(0.2288791, dtype=float32)]\n"
     ]
    },
    {
     "name": "stderr",
     "output_type": "stream",
     "text": [
      "\n"
     ]
    }
   ],
   "source": [
    "import neuralAgent as na\n",
    "device = 'cuda' if torch.cuda.is_available else 'cpu'\n",
    "\n",
    "game = Game(None, None, n_dim=2, size=3)\n",
    "agent1 = na.Model()\n",
    "agent1, values, _, _, _ = na.train_network(agent1, game, 10000, 1000)\n",
    "agent1.save()\n",
    "print(values)"
   ]
  },
  {
   "cell_type": "markdown",
   "metadata": {},
   "source": [
    "We make our agent play 1000 games and then 10000 against the random policy"
   ]
  },
  {
   "cell_type": "code",
   "execution_count": 7,
   "metadata": {},
   "outputs": [
    {
     "name": "stderr",
     "output_type": "stream",
     "text": [
      "100%|██████████| 1000/1000 [00:06<00:00, 166.16it/s]"
     ]
    },
    {
     "name": "stdout",
     "output_type": "stream",
     "text": [
      "Win 814, Draw 42, Loses 144\n"
     ]
    },
    {
     "name": "stderr",
     "output_type": "stream",
     "text": [
      "\n"
     ]
    }
   ],
   "source": [
    "# Example of loading a saved agent\n",
    "loaded_agent = na.Model()\n",
    "loaded_agent.load()\n",
    "wins, draw, loses = na.test_against_random(agent1, game, 1000)\n",
    "print(\"Win {}, Draw {}, Loses {}\".format(wins, draw, loses))"
   ]
  },
  {
   "cell_type": "code",
   "execution_count": 8,
   "metadata": {
    "pycharm": {
     "name": "#%%\n"
    }
   },
   "outputs": [
    {
     "name": "stderr",
     "output_type": "stream",
     "text": [
      "100%|██████████| 10000/10000 [01:00<00:00, 166.39it/s]"
     ]
    },
    {
     "name": "stdout",
     "output_type": "stream",
     "text": [
      "Win 8115, Draw 515, Loses 1370\n"
     ]
    },
    {
     "name": "stderr",
     "output_type": "stream",
     "text": [
      "\n"
     ]
    }
   ],
   "source": [
    "wins, draw, loses = na.test_against_random(agent1, game, 10000)\n",
    "print(\"Win {}, Draw {}, Loses {}\".format(wins, draw, loses))"
   ]
  },
  {
   "cell_type": "markdown",
   "metadata": {},
   "source": [
    "#### Now the 3D case "
   ]
  },
  {
   "cell_type": "code",
   "execution_count": 9,
   "metadata": {
    "pycharm": {
     "name": "#%%\n"
    }
   },
   "outputs": [
    {
     "name": "stderr",
     "output_type": "stream",
     "text": [
      "100%|██████████| 10000/10000 [13:44<00:00, 12.12it/s]\n"
     ]
    }
   ],
   "source": [
    "game = Game(None, None, n_dim=3, size=3)\n",
    "agent1 = na.Model(3, 3)\n",
    "agent1, values, _, _, _ =na.train_network(agent1, game, 10000, 1000)\n",
    "#print(values)"
   ]
  },
  {
   "cell_type": "markdown",
   "metadata": {},
   "source": [
    "We show its performances against the random policy"
   ]
  },
  {
   "cell_type": "code",
   "execution_count": 10,
   "metadata": {
    "pycharm": {
     "name": "#%%\n"
    }
   },
   "outputs": [
    {
     "name": "stderr",
     "output_type": "stream",
     "text": [
      "100%|██████████| 1000/1000 [01:22<00:00, 12.16it/s]"
     ]
    },
    {
     "name": "stdout",
     "output_type": "stream",
     "text": [
      "Win 898, Draw 51, Loses 51\n"
     ]
    },
    {
     "name": "stderr",
     "output_type": "stream",
     "text": [
      "\n"
     ]
    }
   ],
   "source": [
    "wins, draw, loses = na.test_against_random(agent1, game, 1000)\n",
    "print(\"Win {}, Draw {}, Loses {}\".format(wins, draw, loses))"
   ]
  }
 ],
 "metadata": {
  "colab": {
   "collapsed_sections": [],
   "name": "RL_project.ipynb",
   "provenance": []
  },
  "kernelspec": {
   "display_name": "Python 3",
   "language": "python",
   "name": "python3"
  },
  "language_info": {
   "codemirror_mode": {
    "name": "ipython",
    "version": 3
   },
   "file_extension": ".py",
   "mimetype": "text/x-python",
   "name": "python",
   "nbconvert_exporter": "python",
   "pygments_lexer": "ipython3",
   "version": "3.8.3"
  }
 },
 "nbformat": 4,
 "nbformat_minor": 1
}
