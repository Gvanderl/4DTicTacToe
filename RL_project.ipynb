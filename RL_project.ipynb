{
 "cells": [
  {
   "cell_type": "code",
   "execution_count": 1,
   "metadata": {},
   "outputs": [],
   "source": [
    "import numpy as np\n",
    "import torch\n",
    "device = 'cuda' if torch.cuda.is_available else 'cpu'"
   ]
  },
  {
   "cell_type": "code",
   "execution_count": 2,
   "metadata": {},
   "outputs": [],
   "source": [
    "class Game:\n",
    "    \n",
    "    def __init__(self, player1, player2, size=3, n_dim=2):\n",
    "        assert(type(n_dim) is int and n_dim >= 2), \"wrong n_dim\"\n",
    "        self.n_dim = n_dim\n",
    "        self.size = size\n",
    "        self.player1 = player1\n",
    "        self.player2 = player2\n",
    "        self.board = torch.zeros([size]*n_dim, dtype=int).to(device)\n",
    "    \n",
    "    def score(self):\n",
    "        def slice_to_mask(L, size, n_dim):\n",
    "            mask = torch.zeros([size]*n_dim, dtype=int).to(device).bool()\n",
    "            dim = L.index(-1)\n",
    "            for tile in range(size):\n",
    "                L[dim] = tile\n",
    "                mask[tuple(L)] = True\n",
    "            return mask\n",
    "        \n",
    "        score_p1 = 0\n",
    "        score_p2 = 0\n",
    "        all_axis = []\n",
    "        for d in range(self.size ** self.n_dim):\n",
    "            all_axis.append([(d // self.size**k) % self.size for k in range(self.n_dim)[::-1]])\n",
    "            \n",
    "        for d in range(self.n_dim):\n",
    "            d_axis = np.array(all_axis)\n",
    "            d_axis[:, d] = -1\n",
    "            d_axis = np.unique(d_axis, axis=0)\n",
    "            for axis in d_axis:\n",
    "                space_mask = slice_to_mask(list(axis), self.size, self.n_dim)\n",
    "                in_game_axis = self.board[space_mask]\n",
    "                axis_value = in_game_axis.sum().item()\n",
    "                if axis_value == self.size:\n",
    "                    score_p1 += 1\n",
    "                elif axis_value == -self.size:\n",
    "                    score_p2 += 1\n",
    "        return score_p1, score_p2"
   ]
  },
  {
   "cell_type": "code",
   "execution_count": 3,
   "metadata": {},
   "outputs": [
    {
     "data": {
      "text/plain": "tensor([[[ 0,  1,  0],\n         [ 0,  1,  0],\n         [-1, -1, -1]],\n\n        [[ 0,  1,  0],\n         [ 0,  1,  0],\n         [-1, -1, -1]],\n\n        [[ 0,  1,  0],\n         [ 0,  1,  0],\n         [-1, -1, -1]]], device='cuda:0')"
     },
     "execution_count": 3,
     "metadata": {},
     "output_type": "execute_result"
    }
   ],
   "source": [
    "game = Game(None, None, 3, 3)\n",
    "\n",
    "game.board[:, :, 1] = 1\n",
    "game.board[:, 2, :] = -1\n",
    "game.board"
   ]
  },
  {
   "cell_type": "code",
   "execution_count": 4,
   "metadata": {},
   "outputs": [
    {
     "data": {
      "text/plain": "(2, 6)"
     },
     "execution_count": 4,
     "metadata": {},
     "output_type": "execute_result"
    }
   ],
   "source": [
    "game.score()"
   ]
  },
  {
   "cell_type": "code",
   "execution_count": 5,
   "metadata": {},
   "outputs": [
    {
     "name": "stdout",
     "output_type": "stream",
     "text": [
      "[0, 0, 0, 0]\n",
      "[0, 0, 0, 1]\n",
      "[0, 0, 1, 0]\n",
      "[0, 0, 1, 1]\n",
      "[0, 1, 0, 0]\n",
      "[0, 1, 0, 1]\n",
      "[0, 1, 1, 0]\n",
      "[0, 1, 1, 1]\n",
      "[1, 0, 0, 0]\n",
      "[1, 0, 0, 1]\n",
      "[1, 0, 1, 0]\n",
      "[1, 0, 1, 1]\n",
      "[1, 1, 0, 0]\n",
      "[1, 1, 0, 1]\n",
      "[1, 1, 1, 0]\n",
      "[1, 1, 1, 1]\n"
     ]
    }
   ],
   "source": [
    "for d in range(2**4):\n",
    "    L = [(d // 2**k) % 2 for k in range(4)[::-1]]\n",
    "    print(L)"
   ]
  }
 ],
 "metadata": {
  "kernelspec": {
   "display_name": "Python 3",
   "language": "python",
   "name": "python3"
  },
  "language_info": {
   "codemirror_mode": {
    "name": "ipython",
    "version": 3
   },
   "file_extension": ".py",
   "mimetype": "text/x-python",
   "name": "python",
   "nbconvert_exporter": "python",
   "pygments_lexer": "ipython3",
   "version": "3.8.3"
  }
 },
 "nbformat": 4,
 "nbformat_minor": 4
}