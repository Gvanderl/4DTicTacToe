{
 "cells": [
  {
   "cell_type": "code",
   "execution_count": 1,
   "metadata": {
    "id": "meNNqqqlRlN4"
   },
   "outputs": [],
   "source": [
    "import torch\n",
    "device = 'cuda' if torch.cuda.is_available else 'cpu'\n",
    "from agent import Agent, advanced_random_policy, random_policy, sarsa\n",
    "from game import Game\n",
    "import seaborn as sns\n",
    "import matplotlib.pyplot as plt\n",
    "import pandas as pd"
   ]
  },
  {
   "cell_type": "code",
   "execution_count": 2,
   "metadata": {},
   "outputs": [
    {
     "name": "stderr",
     "output_type": "stream",
     "text": [
      "100%|██████████| 10000/10000 [01:15<00:00, 132.39it/s]\n"
     ]
    }
   ],
   "source": [
    "# Trains and test a single Agent\n",
    "\n",
    "agent = Agent(size=3)\n",
    "random_agent = Agent(size=3, policy=advanced_random_policy)\n",
    "game = Game(agent, random_agent, n_dim=2, size=3)\n",
    "sarsa(game, agent, random_policy, alpha=0.8, alpha_factor=0.999, gamma=0.9, epsilon=1.0, epsilon_factor=0.999, \\\n",
    "      r_win=5.0, r_lose=0.0, r_even=1.0, r_even2=1.5, num_episodes=10000)"
   ]
  },
  {
   "cell_type": "code",
   "execution_count": 3,
   "metadata": {},
   "outputs": [
    {
     "data": {
      "text/plain": "(0, 0, 500, 35, 148, 317)"
     },
     "execution_count": 3,
     "metadata": {},
     "output_type": "execute_result"
    }
   ],
   "source": [
    "game.simulate_games(1000)"
   ]
  },
  {
   "cell_type": "code",
   "execution_count": 4,
   "outputs": [
    {
     "name": "stdout",
     "output_type": "stream",
     "text": [
      ". . . \n",
      ". . . \n",
      ". . . \n",
      "\n",
      "Agent plays : (1, 1) \n",
      "\n",
      ". . . \n",
      ". X . \n",
      ". . . \n",
      "\n",
      "Agent plays : (2, 1) \n",
      "\n",
      ". . . \n",
      ". X . \n",
      ". O . \n",
      "\n",
      "Agent plays : (2, 0) \n",
      "\n",
      ". . . \n",
      ". X . \n",
      "X O . \n",
      "\n",
      "Agent plays : (0, 2) \n",
      "\n",
      ". . O \n",
      ". X . \n",
      "X O . \n",
      "\n",
      "Agent plays : (1, 2) \n",
      "\n",
      ". . O \n",
      ". X X \n",
      "X O . \n",
      "\n",
      "Agent plays : (1, 0) \n",
      "\n",
      ". . O \n",
      "O X X \n",
      "X O . \n",
      "\n",
      "Agent plays : (0, 0) \n",
      "\n",
      "X . O \n",
      "O X X \n",
      "X O . \n",
      "\n",
      "Agent plays : (2, 2) \n",
      "\n",
      "X . O \n",
      "O X X \n",
      "X O O \n",
      "\n",
      "Agent plays : (0, 1) \n",
      "\n",
      "X X O \n",
      "O X X \n",
      "X O O \n",
      "\n",
      "Game over. Score : (0, 0)\n",
      "Even score.\n"
     ]
    },
    {
     "data": {
      "text/plain": "(0, 0)"
     },
     "execution_count": 4,
     "metadata": {},
     "output_type": "execute_result"
    }
   ],
   "source": [
    "game.play_a_game()"
   ],
   "metadata": {
    "collapsed": false,
    "pycharm": {
     "name": "#%%\n"
    }
   }
  },
  {
   "cell_type": "code",
   "execution_count": 5,
   "outputs": [
    {
     "name": "stderr",
     "output_type": "stream",
     "text": [
      "100%|██████████| 1/1 [00:00<00:00, 68.49it/s]\n",
      "100%|██████████| 10/10 [00:00<00:00, 113.41it/s]\n",
      "100%|██████████| 100/100 [00:00<00:00, 113.58it/s]\n",
      "100%|██████████| 500/500 [00:03<00:00, 125.73it/s]\n",
      "100%|██████████| 1000/1000 [00:07<00:00, 130.54it/s]\n",
      "100%|██████████| 5000/5000 [00:35<00:00, 140.67it/s]\n",
      "100%|██████████| 10000/10000 [01:05<00:00, 151.80it/s]\n"
     ]
    },
    {
     "name": "stdout",
     "output_type": "stream",
     "text": [
      "Testing with 1 episodes\n",
      "Current results are {1: (2997, 1382, 621, 1411, 2903, 686)}\n",
      "Testing with 10 episodes\n",
      "Current results are {1: (2997, 1382, 621, 1411, 2903, 686), 10: (2903, 1529, 568, 1550, 2872, 578)}\n",
      "Testing with 100 episodes\n",
      "Current results are {1: (2997, 1382, 621, 1411, 2903, 686), 10: (2903, 1529, 568, 1550, 2872, 578), 100: (3539, 981, 480, 2116, 2626, 258)}\n",
      "Testing with 500 episodes\n",
      "Current results are {1: (2997, 1382, 621, 1411, 2903, 686), 10: (2903, 1529, 568, 1550, 2872, 578), 100: (3539, 981, 480, 2116, 2626, 258), 500: (4103, 534, 363, 1981, 1700, 1319)}\n",
      "Testing with 1000 episodes\n",
      "Current results are {1: (2997, 1382, 621, 1411, 2903, 686), 10: (2903, 1529, 568, 1550, 2872, 578), 100: (3539, 981, 480, 2116, 2626, 258), 500: (4103, 534, 363, 1981, 1700, 1319), 1000: (4638, 248, 114, 3311, 882, 807)}\n",
      "Testing with 5000 episodes\n",
      "Current results are {1: (2997, 1382, 621, 1411, 2903, 686), 10: (2903, 1529, 568, 1550, 2872, 578), 100: (3539, 981, 480, 2116, 2626, 258), 500: (4103, 534, 363, 1981, 1700, 1319), 1000: (4638, 248, 114, 3311, 882, 807), 5000: (4895, 0, 105, 3964, 0, 1036)}\n",
      "Testing with 10000 episodes\n",
      "Current results are {1: (2997, 1382, 621, 1411, 2903, 686), 10: (2903, 1529, 568, 1550, 2872, 578), 100: (3539, 981, 480, 2116, 2626, 258), 500: (4103, 534, 363, 1981, 1700, 1319), 1000: (4638, 248, 114, 3311, 882, 807), 5000: (4895, 0, 105, 3964, 0, 1036), 10000: (4942, 0, 58, 4017, 0, 983)}\n"
     ]
    }
   ],
   "source": [
    "# Evaluates agents performances based on number of episodes\n",
    "episodes = [1, 10, 100, 500, 1000, 5000, 10000]\n",
    "results_episodes = dict()\n",
    "for eps in episodes:\n",
    "    print(f\"Testing with {eps} episodes\")\n",
    "    agent = Agent(size=3)\n",
    "    random_agent = Agent(size=3, policy=random_policy)\n",
    "    game = Game(agent, random_agent, n_dim=2, size=3)\n",
    "    sarsa(game, agent, random_policy, alpha=0.45, alpha_factor=0.9995, gamma=0.7, epsilon=1.0, epsilon_factor=0.9997, \\\n",
    "          r_win=11, r_lose=0.0, r_even=1.0, r_even2=1.25, num_episodes=eps)\n",
    "    results_episodes[eps] = game.simulate_games(10000)\n",
    "    print(f\"Current results are {results_episodes}\")\n",
    "results_episodes = pd.DataFrame(results_episodes).T\n",
    "results_episodes.columns = [\"win_agent_first\", \"lose_agent_first\", \"even_agent_first\", \"win_agent_second\", \"lose_agent_second\", \"even_agent_second\"]"
   ],
   "metadata": {
    "collapsed": false,
    "pycharm": {
     "name": "#%%\n"
    }
   }
  },
  {
   "cell_type": "code",
   "execution_count": 6,
   "metadata": {
    "pycharm": {
     "name": "#%%\n"
    }
   },
   "outputs": [
    {
     "data": {
      "text/plain": "<Figure size 576x360 with 1 Axes>",
      "image/png": "[encoded data removed]"
     },
     "metadata": {},
     "output_type": "display_data"
    }
   ],
   "source": [
    "sns.set_theme()\n",
    "sns.set(rc={'figure.figsize':(8,5)})\n",
    "results_episodes[\"total_games\"] = results_episodes[\"win_agent_first\"] + results_episodes[\"win_agent_second\"] + \\\n",
    "                                  results_episodes[\"lose_agent_first\"] + results_episodes[\"lose_agent_second\"] + \\\n",
    "                                  results_episodes[\"even_agent_first\"] + results_episodes[\"even_agent_second\"]\n",
    "results_episodes[\"Win rate\"] = ((results_episodes[\"win_agent_first\"] + results_episodes[\"win_agent_second\"]) / results_episodes[\"total_games\"]) * 100\n",
    "results_episodes[\"Draw rate\"] = ((results_episodes[\"even_agent_first\"] + results_episodes[\"even_agent_second\"]) / results_episodes[\"total_games\"]) * 100\n",
    "results_episodes[\"Win rate Agent First\"] = ((results_episodes[\"win_agent_first\"]) / (results_episodes[\"win_agent_first\"] + results_episodes[\"lose_agent_first\"] + results_episodes[\"even_agent_first\"])) * 100\n",
    "results_episodes[\"Win rate Agent Second\"] = ((results_episodes[\"win_agent_second\"]) / (results_episodes[\"win_agent_second\"] + results_episodes[\"lose_agent_second\"] + results_episodes[\"even_agent_second\"])) * 100\n",
    "\n",
    "ax = sns.lineplot(data=results_episodes[[\"Win rate\", \"Draw rate\", \"Win rate Agent First\", \"Win rate Agent Second\"]], marker=\"o\")\n",
    "ax.set(xlabel='Number of episodes', ylabel='Percentage of games won', ylim=(0, 100))\n",
    "ax.set(xscale=\"log\")\n",
    "ax.legend(loc='upper left')\n",
    "plt.savefig(\"Perf_vs_Episodes.png\")\n",
    "plt.show()"
   ]
  },
  {
   "cell_type": "code",
   "execution_count": 7,
   "outputs": [
    {
     "name": "stderr",
     "output_type": "stream",
     "text": [
      "100%|██████████| 10000/10000 [01:05<00:00, 153.84it/s]\n",
      "100%|██████████| 10000/10000 [04:46<00:00, 34.90it/s]\n",
      "100%|██████████| 10000/10000 [18:29<00:00,  9.02it/s] \n",
      "100%|██████████| 10000/10000 [48:16<00:00,  3.45it/s]\n",
      "100%|██████████| 10000/10000 [2:29:17<00:00,  1.12it/s] \n"
     ]
    },
    {
     "name": "stdout",
     "output_type": "stream",
     "text": [
      "Testing board of size 3x3\n",
      "Current results are {627: (4908, 0, 92, 4071, 32, 897)}\n",
      "Testing board of size 4x4\n",
      "Current results are {627: (4908, 0, 92, 4071, 32, 897), 45507: (1556, 1410, 2034, 1458, 1552, 1990)}\n",
      "Testing board of size 5x5\n",
      "Current results are {627: (4908, 0, 92, 4071, 32, 897), 45507: (1556, 1410, 2034, 1458, 1552, 1990), 97815: (1088, 827, 3085, 751, 1270, 2979)}\n",
      "Testing board of size 6x6\n",
      "Current results are {627: (4908, 0, 92, 4071, 32, 897), 45507: (1556, 1410, 2034, 1458, 1552, 1990), 97815: (1088, 827, 3085, 751, 1270, 2979), 156481: (570, 635, 3795, 604, 623, 3773)}\n",
      "Testing board of size 7x7\n",
      "Current results are {627: (4908, 0, 92, 4071, 32, 897), 45507: (1556, 1410, 2034, 1458, 1552, 1990), 97815: (1088, 827, 3085, 751, 1270, 2979), 156481: (570, 635, 3795, 604, 623, 3773), 225070: (403, 324, 4273, 303, 416, 4281)}\n"
     ]
    }
   ],
   "source": [
    "# Evaluates agents performances based on board size\n",
    "board_sizes = [3, 4, 5, 6, 7]\n",
    "results_boardsize = dict()\n",
    "for board_size in board_sizes:\n",
    "    print(f\"Testing board of size {board_size}x{board_size}\")\n",
    "    agent = Agent(size=board_size)\n",
    "    random_agent = Agent(size=board_size, policy=random_policy)\n",
    "    game = Game(agent, random_agent, n_dim=2, size=board_size)\n",
    "    # Early stopping ?\n",
    "    sarsa(game, agent, random_policy, alpha=0.45, alpha_factor=0.9995, gamma=0.7, epsilon=1.0, epsilon_factor=0.9997, \\\n",
    "          r_win=11, r_lose=0.0, r_even=1.0, r_even2=1.25, num_episodes=10000)\n",
    "    results_boardsize[agent.q_array.shape[0]] = game.simulate_games(10000)\n",
    "    print(f\"Current results are {results_boardsize}\")\n",
    "results_boardsize = pd.DataFrame(results_boardsize).T\n",
    "results_boardsize.columns = [\"win_agent_first\", \"lose_agent_first\", \"even_agent_first\", \"win_agent_second\", \"lose_agent_second\", \"even_agent_second\"]"
   ],
   "metadata": {
    "collapsed": false,
    "pycharm": {
     "name": "#%%\n"
    }
   }
  },
  {
   "cell_type": "code",
   "execution_count": 8,
   "outputs": [
    {
     "data": {
      "text/plain": "<Figure size 576x360 with 1 Axes>",
      "image/png": "[encoded data removed]"
     },
     "metadata": {},
     "output_type": "display_data"
    }
   ],
   "source": [
    "results_boardsize[\"total_games\"] = results_boardsize[\"win_agent_first\"] + results_boardsize[\"win_agent_second\"] + \\\n",
    "                                  results_boardsize[\"lose_agent_first\"] + results_boardsize[\"lose_agent_second\"] + \\\n",
    "                                  results_boardsize[\"even_agent_first\"] + results_boardsize[\"even_agent_second\"]\n",
    "results_boardsize[\"Win rate\"] = ((results_boardsize[\"win_agent_first\"] + results_boardsize[\"win_agent_second\"]) / results_boardsize[\"total_games\"]) * 100\n",
    "\n",
    "ax = sns.lineplot(data=results_boardsize[\"Win rate\"], marker=\"o\")\n",
    "ax.set(xlabel='Q table size', ylabel='Percentage of games won')\n",
    "ax.set(xscale=\"log\")\n",
    "plt.savefig(\"Perf_vs_BoardSize.png\")\n",
    "plt.show()"
   ],
   "metadata": {
    "collapsed": false,
    "pycharm": {
     "name": "#%%\n"
    }
   }
  },
  {
   "cell_type": "code",
   "execution_count": 1,
   "outputs": [
    {
     "name": "stderr",
     "output_type": "stream",
     "text": [
      "  7%|▋         | 991/15000 [00:05<01:35, 146.38it/s]/usr/lib/python3.9/site-packages/torch/autograd/__init__.py:144: UserWarning: CUDA initialization: Unexpected error from cudaGetDeviceCount(). Did you run some cuda functions before calling NumCudaDevices() that might have already set an error? Error 804: forward compatibility was attempted on non supported HW (Triggered internally at  /pytorch/c10/cuda/CUDAFunctions.cpp:104.)\n",
      "  Variable._execution_engine.run_backward(\n",
      "100%|██████████| 15000/15000 [01:20<00:00, 186.02it/s]\n"
     ]
    },
    {
     "name": "stdout",
     "output_type": "stream",
     "text": [
      "[array(0.18835607, dtype=float32), array(0.18835607, dtype=float32), array(0.22811754, dtype=float32), array(0.22811754, dtype=float32), array(0.23030327, dtype=float32), array(0.23030327, dtype=float32), array(0.2119978, dtype=float32), array(0.2119978, dtype=float32), array(0.22302455, dtype=float32), array(0.22302455, dtype=float32), array(0.22132683, dtype=float32), array(0.22132683, dtype=float32), array(0.23356548, dtype=float32), array(0.23356548, dtype=float32), array(0.21245217, dtype=float32), array(0.21245217, dtype=float32), array(0.21925487, dtype=float32), array(0.21925487, dtype=float32), array(0.22709873, dtype=float32), array(0.22709873, dtype=float32), array(0.22639814, dtype=float32), array(0.22639814, dtype=float32), array(0.24171913, dtype=float32), array(0.24171913, dtype=float32), array(0.2359729, dtype=float32), array(0.2359729, dtype=float32), array(0.23264071, dtype=float32), array(0.23264071, dtype=float32)]\n"
     ]
    }
   ],
   "source": [
    "import neuralAgent as na\n",
    "import torch\n",
    "device = 'cuda' if torch.cuda.is_available else 'cpu'\n",
    "from game import Game\n",
    "\n",
    "game = Game(None, None, n_dim=2, size=3)\n",
    "agent1 = na.Model()\n",
    "agent1, values, _, _, _ =na.train_network(agent1, game, 15000, 1000)\n",
    "print(values)"
   ],
   "metadata": {
    "collapsed": false,
    "pycharm": {
     "name": "#%%\n"
    }
   }
  },
  {
   "cell_type": "code",
   "execution_count": 2,
   "outputs": [
    {
     "name": "stderr",
     "output_type": "stream",
     "text": [
      "100%|██████████| 10000/10000 [00:52<00:00, 189.05it/s]\n"
     ]
    },
    {
     "name": "stdout",
     "output_type": "stream",
     "text": [
      "Win 8662, Draw 884, Loses 454\n"
     ]
    }
   ],
   "source": [
    "wins, draw, loses = na.test_against_random(agent1, game, 10000)\n",
    "print(\"Win {}, Draw {}, Loses {}\".format(wins, draw, loses))"
   ],
   "metadata": {
    "collapsed": false,
    "pycharm": {
     "name": "#%%\n"
    }
   }
  },
  {
   "cell_type": "code",
   "execution_count": 3,
   "outputs": [
    {
     "name": "stderr",
     "output_type": "stream",
     "text": [
      "  1%|          | 113/10000 [00:09<14:30, 11.36it/s]\n"
     ]
    },
    {
     "ename": "KeyboardInterrupt",
     "evalue": "",
     "output_type": "error",
     "traceback": [
      "\u001B[0;31m---------------------------------------------------------------------------\u001B[0m",
      "\u001B[0;31mKeyboardInterrupt\u001B[0m                         Traceback (most recent call last)",
      "\u001B[0;32m<ipython-input-3-4192d9af90d4>\u001B[0m in \u001B[0;36m<module>\u001B[0;34m\u001B[0m\n\u001B[1;32m      1\u001B[0m \u001B[0mgame\u001B[0m \u001B[0;34m=\u001B[0m \u001B[0mGame\u001B[0m\u001B[0;34m(\u001B[0m\u001B[0;32mNone\u001B[0m\u001B[0;34m,\u001B[0m \u001B[0;32mNone\u001B[0m\u001B[0;34m,\u001B[0m \u001B[0mn_dim\u001B[0m\u001B[0;34m=\u001B[0m\u001B[0;36m3\u001B[0m\u001B[0;34m,\u001B[0m \u001B[0msize\u001B[0m\u001B[0;34m=\u001B[0m\u001B[0;36m3\u001B[0m\u001B[0;34m)\u001B[0m\u001B[0;34m\u001B[0m\u001B[0;34m\u001B[0m\u001B[0m\n\u001B[1;32m      2\u001B[0m \u001B[0magent1\u001B[0m \u001B[0;34m=\u001B[0m \u001B[0mna\u001B[0m\u001B[0;34m.\u001B[0m\u001B[0mModel\u001B[0m\u001B[0;34m(\u001B[0m\u001B[0;36m3\u001B[0m\u001B[0;34m,\u001B[0m \u001B[0;36m3\u001B[0m\u001B[0;34m)\u001B[0m\u001B[0;34m\u001B[0m\u001B[0;34m\u001B[0m\u001B[0m\n\u001B[0;32m----> 3\u001B[0;31m \u001B[0magent1\u001B[0m\u001B[0;34m,\u001B[0m \u001B[0mvalues\u001B[0m\u001B[0;34m,\u001B[0m \u001B[0m_\u001B[0m\u001B[0;34m,\u001B[0m \u001B[0m_\u001B[0m\u001B[0;34m,\u001B[0m \u001B[0m_\u001B[0m \u001B[0;34m=\u001B[0m\u001B[0mna\u001B[0m\u001B[0;34m.\u001B[0m\u001B[0mtrain_network\u001B[0m\u001B[0;34m(\u001B[0m\u001B[0magent1\u001B[0m\u001B[0;34m,\u001B[0m \u001B[0mgame\u001B[0m\u001B[0;34m,\u001B[0m \u001B[0;36m10000\u001B[0m\u001B[0;34m,\u001B[0m \u001B[0;36m1000\u001B[0m\u001B[0;34m)\u001B[0m\u001B[0;34m\u001B[0m\u001B[0;34m\u001B[0m\u001B[0m\n\u001B[0m\u001B[1;32m      4\u001B[0m \u001B[0mprint\u001B[0m\u001B[0;34m(\u001B[0m\u001B[0mvalues\u001B[0m\u001B[0;34m)\u001B[0m\u001B[0;34m\u001B[0m\u001B[0;34m\u001B[0m\u001B[0m\n\u001B[1;32m      5\u001B[0m \u001B[0mwins\u001B[0m\u001B[0;34m,\u001B[0m \u001B[0mdraw\u001B[0m\u001B[0;34m,\u001B[0m \u001B[0mloses\u001B[0m \u001B[0;34m=\u001B[0m \u001B[0mna\u001B[0m\u001B[0;34m.\u001B[0m\u001B[0mtest_against_random\u001B[0m\u001B[0;34m(\u001B[0m\u001B[0magent1\u001B[0m\u001B[0;34m,\u001B[0m \u001B[0mgame\u001B[0m\u001B[0;34m,\u001B[0m \u001B[0;36m1000\u001B[0m\u001B[0;34m)\u001B[0m\u001B[0;34m\u001B[0m\u001B[0;34m\u001B[0m\u001B[0m\n",
      "\u001B[0;32m/run/media/roundedglint585/NewVolume/Study/Master/INF581/finalProject/CrossDimNoughts/neuralAgent.py\u001B[0m in \u001B[0;36mtrain_network\u001B[0;34m(model, game_instance, num_of_iterations, batch_size, max_records_size, train_for_second)\u001B[0m\n\u001B[1;32m     69\u001B[0m             \u001B[0mprev_state\u001B[0m \u001B[0;34m=\u001B[0m \u001B[0mnp\u001B[0m\u001B[0;34m.\u001B[0m\u001B[0mreshape\u001B[0m\u001B[0;34m(\u001B[0m\u001B[0mgame_instance\u001B[0m\u001B[0;34m.\u001B[0m\u001B[0mboard\u001B[0m\u001B[0;34m,\u001B[0m \u001B[0;34m(\u001B[0m\u001B[0;34m-\u001B[0m\u001B[0;36m1\u001B[0m\u001B[0;34m)\u001B[0m\u001B[0;34m)\u001B[0m\u001B[0;34m\u001B[0m\u001B[0;34m\u001B[0m\u001B[0m\n\u001B[1;32m     70\u001B[0m             \u001B[0mmove\u001B[0m \u001B[0;34m=\u001B[0m \u001B[0magent\u001B[0m\u001B[0;34m.\u001B[0m\u001B[0mrandom_policy\u001B[0m\u001B[0;34m(\u001B[0m\u001B[0mgame_instance\u001B[0m\u001B[0;34m.\u001B[0m\u001B[0mboard\u001B[0m\u001B[0;34m,\u001B[0m \u001B[0;34m''\u001B[0m\u001B[0;34m)\u001B[0m\u001B[0;34m\u001B[0m\u001B[0;34m\u001B[0m\u001B[0m\n\u001B[0;32m---> 71\u001B[0;31m             \u001B[0mnew_state\u001B[0m\u001B[0;34m,\u001B[0m \u001B[0mreward\u001B[0m\u001B[0;34m,\u001B[0m \u001B[0mis_done\u001B[0m\u001B[0;34m,\u001B[0m \u001B[0m_\u001B[0m \u001B[0;34m=\u001B[0m \u001B[0mgame_instance\u001B[0m\u001B[0;34m.\u001B[0m\u001B[0mstep\u001B[0m\u001B[0;34m(\u001B[0m\u001B[0mmove\u001B[0m\u001B[0;34m)\u001B[0m\u001B[0;34m\u001B[0m\u001B[0;34m\u001B[0m\u001B[0m\n\u001B[0m\u001B[1;32m     72\u001B[0m             game_record_y.append(\n\u001B[1;32m     73\u001B[0m                 [prev_state, reward, game_instance.board_position_to_index(move)])  # not collecting for one model\n",
      "\u001B[0;32m/run/media/roundedglint585/NewVolume/Study/Master/INF581/finalProject/CrossDimNoughts/game.py\u001B[0m in \u001B[0;36mstep\u001B[0;34m(self, position)\u001B[0m\n\u001B[1;32m    101\u001B[0m     \u001B[0;32mdef\u001B[0m \u001B[0mstep\u001B[0m\u001B[0;34m(\u001B[0m\u001B[0mself\u001B[0m\u001B[0;34m,\u001B[0m \u001B[0mposition\u001B[0m\u001B[0;34m)\u001B[0m\u001B[0;34m:\u001B[0m\u001B[0;34m\u001B[0m\u001B[0;34m\u001B[0m\u001B[0m\n\u001B[1;32m    102\u001B[0m         \u001B[0mself\u001B[0m\u001B[0;34m.\u001B[0m\u001B[0mboard\u001B[0m\u001B[0;34m[\u001B[0m\u001B[0mposition\u001B[0m\u001B[0;34m]\u001B[0m \u001B[0;34m=\u001B[0m \u001B[0mself\u001B[0m\u001B[0;34m.\u001B[0m\u001B[0mturn\u001B[0m\u001B[0;34m\u001B[0m\u001B[0;34m\u001B[0m\u001B[0m\n\u001B[0;32m--> 103\u001B[0;31m         \u001B[0mscore_p1\u001B[0m\u001B[0;34m,\u001B[0m \u001B[0mscore_p2\u001B[0m \u001B[0;34m=\u001B[0m \u001B[0mself\u001B[0m\u001B[0;34m.\u001B[0m\u001B[0mscore\u001B[0m\u001B[0;34m(\u001B[0m\u001B[0;34m)\u001B[0m\u001B[0;34m\u001B[0m\u001B[0;34m\u001B[0m\u001B[0m\n\u001B[0m\u001B[1;32m    104\u001B[0m         \u001B[0mscore_p1_diff\u001B[0m\u001B[0;34m,\u001B[0m \u001B[0mscore_p2_diff\u001B[0m \u001B[0;34m=\u001B[0m \u001B[0mscore_p1\u001B[0m \u001B[0;34m-\u001B[0m \u001B[0mself\u001B[0m\u001B[0;34m.\u001B[0m\u001B[0mcurrent_score\u001B[0m\u001B[0;34m[\u001B[0m\u001B[0;36m0\u001B[0m\u001B[0;34m]\u001B[0m\u001B[0;34m,\u001B[0m \u001B[0mscore_p2\u001B[0m \u001B[0;34m-\u001B[0m \u001B[0mself\u001B[0m\u001B[0;34m.\u001B[0m\u001B[0mcurrent_score\u001B[0m\u001B[0;34m[\u001B[0m\u001B[0;36m1\u001B[0m\u001B[0;34m]\u001B[0m\u001B[0;34m\u001B[0m\u001B[0;34m\u001B[0m\u001B[0m\n\u001B[1;32m    105\u001B[0m         \u001B[0;31m# update only the score of the player that did the latest move\u001B[0m\u001B[0;34m\u001B[0m\u001B[0;34m\u001B[0m\u001B[0;34m\u001B[0m\u001B[0m\n",
      "\u001B[0;32m/run/media/roundedglint585/NewVolume/Study/Master/INF581/finalProject/CrossDimNoughts/game.py\u001B[0m in \u001B[0;36mscore\u001B[0;34m(self)\u001B[0m\n\u001B[1;32m    156\u001B[0m                 \u001B[0;32mif\u001B[0m \u001B[0maxis_value\u001B[0m \u001B[0;34m==\u001B[0m \u001B[0mself\u001B[0m\u001B[0;34m.\u001B[0m\u001B[0msize\u001B[0m\u001B[0;34m:\u001B[0m\u001B[0;34m\u001B[0m\u001B[0;34m\u001B[0m\u001B[0m\n\u001B[1;32m    157\u001B[0m                     \u001B[0mscore_p1\u001B[0m \u001B[0;34m+=\u001B[0m \u001B[0;36m1\u001B[0m\u001B[0;34m\u001B[0m\u001B[0;34m\u001B[0m\u001B[0m\n\u001B[0;32m--> 158\u001B[0;31m                 \u001B[0;32melif\u001B[0m \u001B[0maxis_value\u001B[0m \u001B[0;34m==\u001B[0m \u001B[0;34m-\u001B[0m\u001B[0mself\u001B[0m\u001B[0;34m.\u001B[0m\u001B[0msize\u001B[0m\u001B[0;34m:\u001B[0m\u001B[0;34m\u001B[0m\u001B[0;34m\u001B[0m\u001B[0m\n\u001B[0m\u001B[1;32m    159\u001B[0m                     \u001B[0mscore_p2\u001B[0m \u001B[0;34m+=\u001B[0m \u001B[0;36m1\u001B[0m\u001B[0;34m\u001B[0m\u001B[0;34m\u001B[0m\u001B[0m\n\u001B[1;32m    160\u001B[0m \u001B[0;34m\u001B[0m\u001B[0m\n",
      "\u001B[0;31mKeyboardInterrupt\u001B[0m: "
     ]
    }
   ],
   "source": [
    "game = Game(None, None, n_dim=3, size=3)\n",
    "agent1 = na.Model(3, 3)\n",
    "agent1, values, _, _, _ =na.train_network(agent1, game, 10000, 1000)\n",
    "print(values)\n",
    "wins, draw, loses = na.test_against_random(agent1, game, 1000)\n",
    "print(\"Win {}, Draw {}, Loses {}\".format(wins, draw, loses))"
   ],
   "metadata": {
    "collapsed": false,
    "pycharm": {
     "name": "#%%\n"
    }
   }
  }
 ],
 "metadata": {
  "colab": {
   "collapsed_sections": [],
   "name": "RL_project.ipynb",
   "provenance": []
  },
  "kernelspec": {
   "display_name": "Python 3",
   "language": "python",
   "name": "python3"
  },
  "language_info": {
   "codemirror_mode": {
    "name": "ipython",
    "version": 3
   },
   "file_extension": ".py",
   "mimetype": "text/x-python",
   "name": "python",
   "nbconvert_exporter": "python",
   "pygments_lexer": "ipython3",
   "version": "3.8.5"
  }
 },
 "nbformat": 4,
 "nbformat_minor": 1
}