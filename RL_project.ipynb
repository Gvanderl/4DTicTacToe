{
 "cells": [
  {
   "cell_type": "code",
   "execution_count": 27,
   "metadata": {
    "id": "meNNqqqlRlN4"
   },
   "outputs": [],
   "source": [
    "import torch\n",
    "device = 'cuda' if torch.cuda.is_available else 'cpu'\n",
    "from agent import Agent, advanced_random_policy, random_policy, sarsa\n",
    "from game import Game\n",
    "import seaborn as sns\n",
    "import matplotlib.pyplot as plt"
   ]
  },
  {
   "cell_type": "code",
   "execution_count": 28,
   "metadata": {},
   "outputs": [
    {
     "name": "stderr",
     "output_type": "stream",
     "text": [
      "100%|██████████| 10000/10000 [01:09<00:00, 143.71it/s]\n"
     ]
    }
   ],
   "source": [
    "# Trains and test a single Agent\n",
    "\n",
    "agent = Agent(size=3)\n",
    "random_agent = Agent(size=3, policy=advanced_random_policy)\n",
    "game = Game(agent, random_agent, n_dim=2, size=3)\n",
    "sarsa(game, agent, random_policy, alpha=0.8, alpha_factor=0.999, gamma=0.9, epsilon=1.0, epsilon_factor=0.999, \\\n",
    "      r_win=5.0, r_lose=0.0, r_even=1.0, r_even2=1.5, num_episodes=10000)"
   ]
  },
  {
   "cell_type": "code",
   "execution_count": 3,
   "metadata": {},
   "outputs": [
    {
     "name": "stdout",
     "output_type": "stream",
     "text": [
      "Agent won 252 times, lost 0 times and did 748 even games\n"
     ]
    }
   ],
   "source": [
    "win_p1, win_p2, tot_even = game.simulate_games(1000)\n",
    "print('Agent won', win_p1, 'times, lost', win_p2, 'times and did', tot_even, 'even games')"
   ]
  },
  {
   "cell_type": "code",
   "execution_count": 4,
   "metadata": {},
   "outputs": [
    {
     "name": "stderr",
     "output_type": "stream",
     "text": [
      "100%|██████████| 10000/10000 [00:23<00:00, 421.70it/s]\n",
      " 69%|██████▊   | 6874/10000 [00:48<00:21, 142.25it/s]\n"
     ]
    },
    {
     "name": "stdout",
     "output_type": "stream",
     "text": [
      "Testing board of size 2x2\n",
      " current results are {4: (500, 500, 0)}\n",
      "Testing board of size 3x3\n"
     ]
    },
    {
     "ename": "KeyboardInterrupt",
     "evalue": "",
     "output_type": "error",
     "traceback": [
      "\u001B[0;31m---------------------------------------------------------------------------\u001B[0m",
      "\u001B[0;31mKeyboardInterrupt\u001B[0m                         Traceback (most recent call last)",
      "\u001B[0;32m<ipython-input-4-0efaddcd1e85>\u001B[0m in \u001B[0;36m<module>\u001B[0;34m\u001B[0m\n\u001B[1;32m      7\u001B[0m     \u001B[0mrandom_agent\u001B[0m \u001B[0;34m=\u001B[0m \u001B[0mAgent\u001B[0m\u001B[0;34m(\u001B[0m\u001B[0msize\u001B[0m\u001B[0;34m=\u001B[0m\u001B[0mboard_size\u001B[0m\u001B[0;34m,\u001B[0m \u001B[0mpolicy\u001B[0m\u001B[0;34m=\u001B[0m\u001B[0madvanced_random_policy\u001B[0m\u001B[0;34m)\u001B[0m\u001B[0;34m\u001B[0m\u001B[0;34m\u001B[0m\u001B[0m\n\u001B[1;32m      8\u001B[0m     \u001B[0mgame\u001B[0m \u001B[0;34m=\u001B[0m \u001B[0mGame\u001B[0m\u001B[0;34m(\u001B[0m\u001B[0magent\u001B[0m\u001B[0;34m,\u001B[0m \u001B[0mrandom_agent\u001B[0m\u001B[0;34m,\u001B[0m \u001B[0mn_dim\u001B[0m\u001B[0;34m=\u001B[0m\u001B[0;36m2\u001B[0m\u001B[0;34m,\u001B[0m \u001B[0msize\u001B[0m\u001B[0;34m=\u001B[0m\u001B[0mboard_size\u001B[0m\u001B[0;34m)\u001B[0m\u001B[0;34m\u001B[0m\u001B[0;34m\u001B[0m\u001B[0m\n\u001B[0;32m----> 9\u001B[0;31m     sarsa(game, agent, random_policy, alpha=0.8, alpha_factor=0.9999, gamma=0.9, epsilon=1.0, epsilon_factor=0.9998, \\\n\u001B[0m\u001B[1;32m     10\u001B[0m           r_win=5.0, r_lose=0.0, r_even=1.0, r_even2=1.5, num_episodes=10000)\n\u001B[1;32m     11\u001B[0m     \u001B[0mresults\u001B[0m\u001B[0;34m[\u001B[0m\u001B[0magent\u001B[0m\u001B[0;34m.\u001B[0m\u001B[0mq_array\u001B[0m\u001B[0;34m.\u001B[0m\u001B[0mshape\u001B[0m\u001B[0;34m[\u001B[0m\u001B[0;36m0\u001B[0m\u001B[0;34m]\u001B[0m\u001B[0;34m]\u001B[0m \u001B[0;34m=\u001B[0m \u001B[0mgame\u001B[0m\u001B[0;34m.\u001B[0m\u001B[0msimulate_games\u001B[0m\u001B[0;34m(\u001B[0m\u001B[0;36m1000\u001B[0m\u001B[0;34m)\u001B[0m\u001B[0;34m\u001B[0m\u001B[0;34m\u001B[0m\u001B[0m\n",
      "\u001B[0;32m/run/media/roundedglint585/NewVolume/Study/Master/INF581/finalProject/CrossDimNoughts/agent.py\u001B[0m in \u001B[0;36msarsa\u001B[0;34m(game, agent, opponent_policy, alpha, alpha_factor, gamma, epsilon, epsilon_factor, r_win, r_lose, r_even, r_even2, num_episodes)\u001B[0m\n\u001B[1;32m     86\u001B[0m                     \u001B[0mreward\u001B[0m \u001B[0;34m=\u001B[0m \u001B[0mr_even2\u001B[0m\u001B[0;34m\u001B[0m\u001B[0;34m\u001B[0m\u001B[0m\n\u001B[1;32m     87\u001B[0m                 \u001B[0;32mbreak\u001B[0m\u001B[0;34m\u001B[0m\u001B[0;34m\u001B[0m\u001B[0m\n\u001B[0;32m---> 88\u001B[0;31m             \u001B[0maction\u001B[0m \u001B[0;34m=\u001B[0m \u001B[0magent\u001B[0m\u001B[0;34m.\u001B[0m\u001B[0mepsilon_greedy_policy\u001B[0m\u001B[0;34m(\u001B[0m\u001B[0mstate\u001B[0m\u001B[0;34m,\u001B[0m \u001B[0mepsilon\u001B[0m\u001B[0;34m)\u001B[0m\u001B[0;34m\u001B[0m\u001B[0;34m\u001B[0m\u001B[0m\n\u001B[0m\u001B[1;32m     89\u001B[0m             \u001B[0mstate_history\u001B[0m\u001B[0;34m.\u001B[0m\u001B[0mappend\u001B[0m\u001B[0;34m(\u001B[0m\u001B[0mstate\u001B[0m\u001B[0;34m.\u001B[0m\u001B[0mcopy\u001B[0m\u001B[0;34m(\u001B[0m\u001B[0;34m)\u001B[0m\u001B[0;34m)\u001B[0m\u001B[0;34m\u001B[0m\u001B[0;34m\u001B[0m\u001B[0m\n\u001B[1;32m     90\u001B[0m             \u001B[0maction_history\u001B[0m\u001B[0;34m.\u001B[0m\u001B[0mappend\u001B[0m\u001B[0;34m(\u001B[0m\u001B[0maction\u001B[0m\u001B[0;34m)\u001B[0m\u001B[0;34m\u001B[0m\u001B[0;34m\u001B[0m\u001B[0m\n",
      "\u001B[0;32m/run/media/roundedglint585/NewVolume/Study/Master/INF581/finalProject/CrossDimNoughts/agent.py\u001B[0m in \u001B[0;36mepsilon_greedy_policy\u001B[0;34m(self, state, epsilon)\u001B[0m\n\u001B[1;32m    361\u001B[0m             \u001B[0maction\u001B[0m \u001B[0;34m=\u001B[0m \u001B[0mtuple\u001B[0m\u001B[0;34m(\u001B[0m\u001B[0mlegal_moves\u001B[0m\u001B[0;34m[\u001B[0m\u001B[0mrandom_idx\u001B[0m\u001B[0;34m]\u001B[0m\u001B[0;34m)\u001B[0m\u001B[0;34m\u001B[0m\u001B[0;34m\u001B[0m\u001B[0m\n\u001B[1;32m    362\u001B[0m         \u001B[0;32melse\u001B[0m\u001B[0;34m:\u001B[0m\u001B[0;34m\u001B[0m\u001B[0;34m\u001B[0m\u001B[0m\n\u001B[0;32m--> 363\u001B[0;31m             \u001B[0maction\u001B[0m \u001B[0;34m=\u001B[0m \u001B[0mself\u001B[0m\u001B[0;34m.\u001B[0m\u001B[0mgreedy_policy\u001B[0m\u001B[0;34m(\u001B[0m\u001B[0mstate\u001B[0m\u001B[0;34m)\u001B[0m\u001B[0;34m\u001B[0m\u001B[0;34m\u001B[0m\u001B[0m\n\u001B[0m\u001B[1;32m    364\u001B[0m         \u001B[0;32mreturn\u001B[0m \u001B[0maction\u001B[0m\u001B[0;34m\u001B[0m\u001B[0;34m\u001B[0m\u001B[0m\n\u001B[1;32m    365\u001B[0m \u001B[0;34m\u001B[0m\u001B[0m\n",
      "\u001B[0;32m/run/media/roundedglint585/NewVolume/Study/Master/INF581/finalProject/CrossDimNoughts/agent.py\u001B[0m in \u001B[0;36mgreedy_policy\u001B[0;34m(self, state)\u001B[0m\n\u001B[1;32m    266\u001B[0m         \u001B[0mReturn\u001B[0m \u001B[0mthe\u001B[0m \u001B[0mnext\u001B[0m \u001B[0maction\u001B[0m \u001B[0;32mas\u001B[0m \u001B[0ma\u001B[0m \u001B[0mtuple\u001B[0m\u001B[0;34m\u001B[0m\u001B[0;34m\u001B[0m\u001B[0m\n\u001B[1;32m    267\u001B[0m         \"\"\"\n\u001B[0;32m--> 268\u001B[0;31m         \u001B[0mcode_state\u001B[0m \u001B[0;34m=\u001B[0m \u001B[0mself\u001B[0m\u001B[0;34m.\u001B[0m\u001B[0mencode_state\u001B[0m\u001B[0;34m(\u001B[0m\u001B[0mstate\u001B[0m\u001B[0;34m)\u001B[0m\u001B[0;34m\u001B[0m\u001B[0;34m\u001B[0m\u001B[0m\n\u001B[0m\u001B[1;32m    269\u001B[0m         \u001B[0;32mtry\u001B[0m\u001B[0;34m:\u001B[0m\u001B[0;34m\u001B[0m\u001B[0;34m\u001B[0m\u001B[0m\n\u001B[1;32m    270\u001B[0m             \u001B[0mself\u001B[0m\u001B[0;34m.\u001B[0m\u001B[0mq_array\u001B[0m\u001B[0;34m.\u001B[0m\u001B[0mloc\u001B[0m\u001B[0;34m[\u001B[0m\u001B[0mcode_state\u001B[0m\u001B[0;34m]\u001B[0m\u001B[0;34m\u001B[0m\u001B[0;34m\u001B[0m\u001B[0m\n",
      "\u001B[0;32m/run/media/roundedglint585/NewVolume/Study/Master/INF581/finalProject/CrossDimNoughts/agent.py\u001B[0m in \u001B[0;36mencode_state\u001B[0;34m(self, state)\u001B[0m\n\u001B[1;32m    407\u001B[0m \u001B[0;34m\u001B[0m\u001B[0m\n\u001B[1;32m    408\u001B[0m     \u001B[0;32mdef\u001B[0m \u001B[0mencode_state\u001B[0m\u001B[0;34m(\u001B[0m\u001B[0mself\u001B[0m\u001B[0;34m,\u001B[0m \u001B[0mstate\u001B[0m\u001B[0;34m)\u001B[0m\u001B[0;34m:\u001B[0m\u001B[0;34m\u001B[0m\u001B[0;34m\u001B[0m\u001B[0m\n\u001B[0;32m--> 409\u001B[0;31m         \u001B[0msym_states\u001B[0m \u001B[0;34m=\u001B[0m \u001B[0mself\u001B[0m\u001B[0;34m.\u001B[0m\u001B[0mgenerate_all_sym_states\u001B[0m\u001B[0;34m(\u001B[0m\u001B[0mstate\u001B[0m\u001B[0;34m)\u001B[0m\u001B[0;34m\u001B[0m\u001B[0;34m\u001B[0m\u001B[0m\n\u001B[0m\u001B[1;32m    410\u001B[0m         \u001B[0;32mreturn\u001B[0m \u001B[0msym_states\u001B[0m\u001B[0;34m[\u001B[0m\u001B[0;36m0\u001B[0m\u001B[0;34m]\u001B[0m\u001B[0;34m\u001B[0m\u001B[0;34m\u001B[0m\u001B[0m\n\u001B[1;32m    411\u001B[0m \u001B[0;34m\u001B[0m\u001B[0m\n",
      "\u001B[0;32m/run/media/roundedglint585/NewVolume/Study/Master/INF581/finalProject/CrossDimNoughts/agent.py\u001B[0m in \u001B[0;36mgenerate_all_sym_states\u001B[0;34m(self, state)\u001B[0m\n\u001B[1;32m    384\u001B[0m         sym_states = [self.encode_one_state(state), self.encode_one_state(np.rot90(state, 1)), \\\n\u001B[1;32m    385\u001B[0m                       \u001B[0mself\u001B[0m\u001B[0;34m.\u001B[0m\u001B[0mencode_one_state\u001B[0m\u001B[0;34m(\u001B[0m\u001B[0mnp\u001B[0m\u001B[0;34m.\u001B[0m\u001B[0mrot90\u001B[0m\u001B[0;34m(\u001B[0m\u001B[0mstate\u001B[0m\u001B[0;34m,\u001B[0m \u001B[0;36m2\u001B[0m\u001B[0;34m)\u001B[0m\u001B[0;34m)\u001B[0m\u001B[0;34m,\u001B[0m \u001B[0mself\u001B[0m\u001B[0;34m.\u001B[0m\u001B[0mencode_one_state\u001B[0m\u001B[0;34m(\u001B[0m\u001B[0mnp\u001B[0m\u001B[0;34m.\u001B[0m\u001B[0mrot90\u001B[0m\u001B[0;34m(\u001B[0m\u001B[0mstate\u001B[0m\u001B[0;34m,\u001B[0m \u001B[0;36m3\u001B[0m\u001B[0;34m)\u001B[0m\u001B[0;34m)\u001B[0m\u001B[0;34m,\u001B[0m\u001B[0;31m \u001B[0m\u001B[0;31m\\\u001B[0m\u001B[0;34m\u001B[0m\u001B[0;34m\u001B[0m\u001B[0m\n\u001B[0;32m--> 386\u001B[0;31m                       \u001B[0mself\u001B[0m\u001B[0;34m.\u001B[0m\u001B[0mencode_one_state\u001B[0m\u001B[0;34m(\u001B[0m\u001B[0mstate\u001B[0m\u001B[0;34m[\u001B[0m\u001B[0;34m:\u001B[0m\u001B[0;34m:\u001B[0m\u001B[0;34m-\u001B[0m\u001B[0;36m1\u001B[0m\u001B[0;34m]\u001B[0m\u001B[0;34m)\u001B[0m\u001B[0;34m,\u001B[0m \u001B[0mself\u001B[0m\u001B[0;34m.\u001B[0m\u001B[0mencode_one_state\u001B[0m\u001B[0;34m(\u001B[0m\u001B[0mstate\u001B[0m\u001B[0;34m[\u001B[0m\u001B[0;34m:\u001B[0m\u001B[0;34m,\u001B[0m \u001B[0;34m:\u001B[0m\u001B[0;34m:\u001B[0m\u001B[0;34m-\u001B[0m\u001B[0;36m1\u001B[0m\u001B[0;34m]\u001B[0m\u001B[0;34m)\u001B[0m\u001B[0;34m,\u001B[0m\u001B[0;31m \u001B[0m\u001B[0;31m\\\u001B[0m\u001B[0;34m\u001B[0m\u001B[0;34m\u001B[0m\u001B[0m\n\u001B[0m\u001B[1;32m    387\u001B[0m                       self.encode_one_state(state.T), self.encode_one_state(np.rot90(state, 2).T)]\n\u001B[1;32m    388\u001B[0m         \u001B[0msym_states\u001B[0m\u001B[0;34m.\u001B[0m\u001B[0msort\u001B[0m\u001B[0;34m(\u001B[0m\u001B[0;34m)\u001B[0m\u001B[0;34m\u001B[0m\u001B[0;34m\u001B[0m\u001B[0m\n",
      "\u001B[0;32m/run/media/roundedglint585/NewVolume/Study/Master/INF581/finalProject/CrossDimNoughts/agent.py\u001B[0m in \u001B[0;36mencode_one_state\u001B[0;34m(self, state)\u001B[0m\n\u001B[1;32m    377\u001B[0m     \u001B[0;32mdef\u001B[0m \u001B[0mencode_one_state\u001B[0m\u001B[0;34m(\u001B[0m\u001B[0mself\u001B[0m\u001B[0;34m,\u001B[0m \u001B[0mstate\u001B[0m\u001B[0;34m)\u001B[0m\u001B[0;34m:\u001B[0m\u001B[0;34m\u001B[0m\u001B[0;34m\u001B[0m\u001B[0m\n\u001B[1;32m    378\u001B[0m         \u001B[0mcode_state\u001B[0m \u001B[0;34m=\u001B[0m \u001B[0;34m''\u001B[0m\u001B[0;34m\u001B[0m\u001B[0;34m\u001B[0m\u001B[0m\n\u001B[0;32m--> 379\u001B[0;31m         \u001B[0;32mfor\u001B[0m \u001B[0mi\u001B[0m \u001B[0;32min\u001B[0m \u001B[0mstate\u001B[0m\u001B[0;34m.\u001B[0m\u001B[0mflatten\u001B[0m\u001B[0;34m(\u001B[0m\u001B[0;34m)\u001B[0m\u001B[0;34m:\u001B[0m\u001B[0;34m\u001B[0m\u001B[0;34m\u001B[0m\u001B[0m\n\u001B[0m\u001B[1;32m    380\u001B[0m             \u001B[0mcode_state\u001B[0m \u001B[0;34m+=\u001B[0m \u001B[0mstr\u001B[0m\u001B[0;34m(\u001B[0m\u001B[0mi\u001B[0m\u001B[0;34m)\u001B[0m \u001B[0;32mif\u001B[0m \u001B[0mi\u001B[0m \u001B[0;34m!=\u001B[0m \u001B[0;34m-\u001B[0m\u001B[0;36m1\u001B[0m \u001B[0;32melse\u001B[0m \u001B[0;34m'2'\u001B[0m\u001B[0;34m\u001B[0m\u001B[0;34m\u001B[0m\u001B[0m\n\u001B[1;32m    381\u001B[0m         \u001B[0;32mreturn\u001B[0m \u001B[0mcode_state\u001B[0m\u001B[0;34m\u001B[0m\u001B[0;34m\u001B[0m\u001B[0m\n",
      "\u001B[0;31mKeyboardInterrupt\u001B[0m: "
     ]
    }
   ],
   "source": [
    "# Evaluates agents performances based on board size\n",
    "board_sizes = [2, 3, 4, 5, 6, 10]\n",
    "results = dict()\n",
    "for board_size in board_sizes:\n",
    "    print(f\"Testing board of size {board_size}x{board_size}\")\n",
    "    agent = Agent(size=board_size)\n",
    "    random_agent = Agent(size=board_size, policy=advanced_random_policy)\n",
    "    game = Game(agent, random_agent, n_dim=2, size=board_size)\n",
    "    sarsa(game, agent, random_policy, alpha=0.8, alpha_factor=0.9999, gamma=0.9, epsilon=1.0, epsilon_factor=0.9998, \\\n",
    "          r_win=5.0, r_lose=0.0, r_even=1.0, r_even2=1.5, num_episodes=10000)\n",
    "    results[agent.q_array.shape[0]] = game.simulate_games(1000)\n",
    "    print(f\" current results are {results}\")"
   ]
  },
  {
   "cell_type": "code",
   "execution_count": null,
   "metadata": {},
   "outputs": [],
   "source": [
    "winrates = [(val[0] / (val[0] + val[1])) * 100 for key, val in results.items()]\n",
    "sizes = [key for key, val in results.items()]\n",
    "ax = sns.lineplot(x=sizes, y=winrates, marker=\"o\")\n",
    "ax.set(xlabel='Q table size', ylabel='Win %')\n",
    "ax.set(xscale=\"log\")\n",
    "plt.show()\n",
    "# Early stopping ?"
   ]
  },
  {
   "cell_type": "code",
   "execution_count": null,
   "metadata": {},
   "outputs": [],
   "source": [
    "game.play_a_game()"
   ]
  },
  {
   "cell_type": "code",
   "execution_count": 3,
   "outputs": [
    {
     "name": "stdout",
     "output_type": "stream",
     "text": [
      "(2, 1)\n",
      "7\n",
      "0\n",
      "1000\n",
      "2000\n",
      "3000\n",
      "4000\n",
      "5000\n",
      "6000\n",
      "7000\n"
     ]
    },
    {
     "data": {
      "text/plain": "(Model(\n   (fc1): Linear(in_features=9, out_features=270, bias=True)\n   (fc2): Linear(in_features=270, out_features=270, bias=True)\n   (fc3): Linear(in_features=270, out_features=9, bias=True)\n ),\n [array(0.64666915, dtype=float32),\n  array(0.6815708, dtype=float32),\n  array(0.83475256, dtype=float32),\n  array(0.65264153, dtype=float32),\n  array(0.8078006, dtype=float32),\n  array(0.7016886, dtype=float32),\n  array(0.69099975, dtype=float32),\n  array(0.6567035, dtype=float32),\n  array(0.73203284, dtype=float32),\n  array(0.7242628, dtype=float32),\n  array(0.7986365, dtype=float32),\n  array(0.68388855, dtype=float32),\n  array(0.7489534, dtype=float32),\n  array(0.79954284, dtype=float32),\n  array(0.5706469, dtype=float32),\n  array(0.83183706, dtype=float32),\n  array(0.7194717, dtype=float32),\n  array(0.7836671, dtype=float32),\n  array(0.58824563, dtype=float32),\n  array(0.81548876, dtype=float32),\n  array(0.879274, dtype=float32),\n  array(0.6644377, dtype=float32),\n  array(0.85984075, dtype=float32),\n  array(0.76886505, dtype=float32),\n  array(0.75099856, dtype=float32),\n  array(0.7771615, dtype=float32),\n  array(0.7473439, dtype=float32),\n  array(0.68390894, dtype=float32),\n  array(0.60686225, dtype=float32),\n  array(0.822467, dtype=float32),\n  array(0.83018875, dtype=float32),\n  array(0.9572429, dtype=float32),\n  array(0.78508604, dtype=float32),\n  array(0.59352994, dtype=float32),\n  array(0.88337207, dtype=float32),\n  array(0.626621, dtype=float32),\n  array(0.6592181, dtype=float32),\n  array(0.7465179, dtype=float32),\n  array(0.8292677, dtype=float32),\n  array(0.5982041, dtype=float32),\n  array(0.67115515, dtype=float32),\n  array(0.7848558, dtype=float32),\n  array(0.59822583, dtype=float32),\n  array(0.53815556, dtype=float32),\n  array(0.7460976, dtype=float32),\n  array(0.78255105, dtype=float32),\n  array(0.8537783, dtype=float32),\n  array(0.6005984, dtype=float32),\n  array(0.7440191, dtype=float32),\n  array(0.70066255, dtype=float32),\n  array(0.87404805, dtype=float32),\n  array(0.8420587, dtype=float32),\n  array(0.6788453, dtype=float32),\n  array(0.7323188, dtype=float32),\n  array(0.7283747, dtype=float32),\n  array(0.7078964, dtype=float32),\n  array(0.7613102, dtype=float32),\n  array(0.59205335, dtype=float32),\n  array(0.777873, dtype=float32),\n  array(0.65632117, dtype=float32),\n  array(0.82575226, dtype=float32),\n  array(0.8607673, dtype=float32),\n  array(0.7910938, dtype=float32),\n  array(0.6285869, dtype=float32),\n  array(0.67601043, dtype=float32),\n  array(0.7913085, dtype=float32),\n  array(0.8307582, dtype=float32),\n  array(0.6887243, dtype=float32),\n  array(0.7906655, dtype=float32),\n  array(0.77208, dtype=float32),\n  array(0.67618454, dtype=float32),\n  array(0.696428, dtype=float32),\n  array(0.7616809, dtype=float32),\n  array(0.8354355, dtype=float32),\n  array(0.6783842, dtype=float32),\n  array(0.76311064, dtype=float32),\n  array(0.6822447, dtype=float32),\n  array(0.68076, dtype=float32),\n  array(0.8263184, dtype=float32)],\n 3841,\n 379,\n 3920)"
     },
     "execution_count": 3,
     "metadata": {},
     "output_type": "execute_result"
    }
   ],
   "source": [
    "import neuralAgent as na\n",
    "import torch\n",
    "device = 'cuda' if torch.cuda.is_available else 'cpu'\n",
    "from game import Game\n",
    "\n",
    "game = Game(None, None, n_dim=2, size=3)\n",
    "print(game.board_position_to_tuple(7))\n",
    "print(game.board_position_to_index((2,1)))\n",
    "agent1 = na.Model()\n",
    "na.train_network(agent1, game, 8000)"
   ],
   "metadata": {
    "collapsed": false,
    "pycharm": {
     "name": "#%%\n"
    }
   }
  },
  {
   "cell_type": "code",
   "execution_count": 2,
   "outputs": [
    {
     "name": "stdout",
     "output_type": "stream",
     "text": [
      "6494 413 3093\n"
     ]
    }
   ],
   "source": [
    "import agent\n",
    "num_of_iteration = 10000\n",
    "wins = 0\n",
    "draws = 0\n",
    "loses = 0\n",
    "for i in range(num_of_iteration):\n",
    "    game.reset()\n",
    "    while not game.is_done():\n",
    "        na.make_move(game, agent1)\n",
    "        if game.is_done():\n",
    "            break\n",
    "        move = agent.random_policy(game.board, '')\n",
    "        new_state, reward, is_done, _ = game.step(move)\n",
    "\n",
    "    wins += game.current_score[0]\n",
    "    loses += game.current_score[1]\n",
    "    if game.current_score == (0, 0):\n",
    "        draws += 1\n",
    "print(wins, draws, loses)"
   ],
   "metadata": {
    "collapsed": false,
    "pycharm": {
     "name": "#%%\n"
    }
   }
  }
 ],
 "metadata": {
  "colab": {
   "collapsed_sections": [],
   "name": "RL_project.ipynb",
   "provenance": []
  },
  "kernelspec": {
   "display_name": "Python 3",
   "language": "python",
   "name": "python3"
  },
  "language_info": {
   "codemirror_mode": {
    "name": "ipython",
    "version": 3
   },
   "file_extension": ".py",
   "mimetype": "text/x-python",
   "name": "python",
   "nbconvert_exporter": "python",
   "pygments_lexer": "ipython3",
   "version": "3.8.5"
  }
 },
 "nbformat": 4,
 "nbformat_minor": 1
}